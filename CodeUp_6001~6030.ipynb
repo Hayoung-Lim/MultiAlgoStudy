{
  "nbformat": 4,
  "nbformat_minor": 0,
  "metadata": {
    "colab": {
      "name": "CodeUp_6001~6030.ipynb",
      "provenance": [],
      "authorship_tag": "ABX9TyP/mCsia5XepaXYqSK/12EU"
    },
    "kernelspec": {
      "name": "python3",
      "display_name": "Python 3"
    },
    "language_info": {
      "name": "python"
    }
  },
  "cells": [
    {
      "cell_type": "code",
      "source": [
        "#6001\n",
        "print('Hello')"
      ],
      "metadata": {
        "colab": {
          "base_uri": "https://localhost:8080/"
        },
        "id": "CcRAv39Ucgrq",
        "outputId": "0b6d48ea-ea46-4ce1-824d-204a76bcd3b3"
      },
      "execution_count": 2,
      "outputs": [
        {
          "output_type": "stream",
          "name": "stdout",
          "text": [
            "Hello\n"
          ]
        }
      ]
    },
    {
      "cell_type": "code",
      "source": [
        "#2\n",
        "print(\"Hello World\")\n",
        "# print(\"Hello\",\"World\")"
      ],
      "metadata": {
        "colab": {
          "base_uri": "https://localhost:8080/"
        },
        "id": "weS8unvTcaMR",
        "outputId": "a899a021-f98b-4d7e-8b0e-69cb5821385d"
      },
      "execution_count": 3,
      "outputs": [
        {
          "output_type": "stream",
          "name": "stdout",
          "text": [
            "Hello World\n"
          ]
        }
      ]
    },
    {
      "cell_type": "code",
      "source": [
        "#3\n",
        "print(\"Hello\")\n",
        "print(\"World\")\n",
        "# print(\"Hello\\nWorld\")"
      ],
      "metadata": {
        "colab": {
          "base_uri": "https://localhost:8080/"
        },
        "id": "cBB-ijIecmhO",
        "outputId": "2f9883d0-a75e-4b44-d534-90ae7443d7fb"
      },
      "execution_count": 4,
      "outputs": [
        {
          "output_type": "stream",
          "name": "stdout",
          "text": [
            "Hello\n",
            "World\n"
          ]
        }
      ]
    },
    {
      "cell_type": "code",
      "source": [
        "#4\n",
        "print(\"'Hello'\")"
      ],
      "metadata": {
        "colab": {
          "base_uri": "https://localhost:8080/"
        },
        "id": "RXzqLrpvcucN",
        "outputId": "9b8d7fd0-311c-48c7-f268-21a2b426b207"
      },
      "execution_count": 5,
      "outputs": [
        {
          "output_type": "stream",
          "name": "stdout",
          "text": [
            "'Hello'\n"
          ]
        }
      ]
    },
    {
      "cell_type": "code",
      "source": [
        "#5\n",
        "print('\"Hello World\"')"
      ],
      "metadata": {
        "colab": {
          "base_uri": "https://localhost:8080/"
        },
        "id": "Qx7cPMn-cvwl",
        "outputId": "61ba4e1c-9314-40f5-8c25-cad06c568c38"
      },
      "execution_count": 6,
      "outputs": [
        {
          "output_type": "stream",
          "name": "stdout",
          "text": [
            "\"Hello World\"\n"
          ]
        }
      ]
    },
    {
      "cell_type": "code",
      "source": [
        "#6\n",
        "print('\\\"!@#$%^&*()\\'')"
      ],
      "metadata": {
        "colab": {
          "base_uri": "https://localhost:8080/"
        },
        "id": "N17-BWxgcw3I",
        "outputId": "c5a62af2-70da-4b30-d422-c83079408868"
      },
      "execution_count": 7,
      "outputs": [
        {
          "output_type": "stream",
          "name": "stdout",
          "text": [
            "\"!@#$%^&*()'\n"
          ]
        }
      ]
    },
    {
      "cell_type": "code",
      "source": [
        "#7\n",
        "print(\"\\\"C:\\\\Download\\\\'hello\\'.py\\\"\")"
      ],
      "metadata": {
        "colab": {
          "base_uri": "https://localhost:8080/"
        },
        "id": "Qf-MvG2TcyJM",
        "outputId": "a06ce036-ba27-4193-e43a-31b6fdba188c"
      },
      "execution_count": 8,
      "outputs": [
        {
          "output_type": "stream",
          "name": "stdout",
          "text": [
            "\"C:\\Download\\'hello'.py\"\n"
          ]
        }
      ]
    },
    {
      "cell_type": "code",
      "source": [
        "#8\n",
        "print('print(\\\"Hello\\\\nWorld\\\")')\n"
      ],
      "metadata": {
        "colab": {
          "base_uri": "https://localhost:8080/"
        },
        "id": "LX8-MoVVczdj",
        "outputId": "f4147296-c7ad-47eb-a4ae-71baac87031c"
      },
      "execution_count": 9,
      "outputs": [
        {
          "output_type": "stream",
          "name": "stdout",
          "text": [
            "print(\"Hello\\nWorld\")\n"
          ]
        }
      ]
    },
    {
      "cell_type": "code",
      "source": [
        "#9\n",
        "a = input()\n",
        "print(a)"
      ],
      "metadata": {
        "colab": {
          "base_uri": "https://localhost:8080/"
        },
        "id": "6mdS14-pc1IV",
        "outputId": "d9fd6c1c-dc5c-4934-e319-adf72bd5296f"
      },
      "execution_count": 12,
      "outputs": [
        {
          "output_type": "stream",
          "name": "stdout",
          "text": [
            "a\n",
            "a\n"
          ]
        }
      ]
    },
    {
      "cell_type": "code",
      "source": [
        "#10\n",
        "a = input()\n",
        "print(int(a))\n",
        "# print(int(input()))"
      ],
      "metadata": {
        "colab": {
          "base_uri": "https://localhost:8080/"
        },
        "id": "TQI24sJoc2j2",
        "outputId": "5abcbcc9-f845-4935-8d56-d4a6e7e9d987"
      },
      "execution_count": 11,
      "outputs": [
        {
          "output_type": "stream",
          "name": "stdout",
          "text": [
            "15\n",
            "15\n"
          ]
        }
      ]
    },
    {
      "cell_type": "code",
      "source": [
        "#11\n",
        "a = float(input())\n",
        "print(a)"
      ],
      "metadata": {
        "colab": {
          "base_uri": "https://localhost:8080/"
        },
        "id": "tHMcvyzIc4hH",
        "outputId": "d614ae80-3425-41c3-ec3f-3f9993510e2e"
      },
      "execution_count": 13,
      "outputs": [
        {
          "output_type": "stream",
          "name": "stdout",
          "text": [
            "1.414213\n",
            "1.414213\n"
          ]
        }
      ]
    },
    {
      "cell_type": "code",
      "source": [
        "#12\n",
        "print(int(input()))\n",
        "print(int(input()))"
      ],
      "metadata": {
        "colab": {
          "base_uri": "https://localhost:8080/"
        },
        "id": "MQPE8hpedSv-",
        "outputId": "e2df7c9b-c7c1-4e75-e8b6-fc30dbf3c049"
      },
      "execution_count": 20,
      "outputs": [
        {
          "output_type": "stream",
          "name": "stdout",
          "text": [
            "1\n",
            "1\n",
            "2\n",
            "2\n"
          ]
        }
      ]
    },
    {
      "cell_type": "code",
      "source": [
        "#13\n",
        "a = input()\n",
        "b = input()\n",
        "print(b)\n",
        "print(a)"
      ],
      "metadata": {
        "colab": {
          "base_uri": "https://localhost:8080/"
        },
        "id": "Vzgs9hWadXTw",
        "outputId": "2ab6b185-3cc2-4e0a-db69-22627fcdd346"
      },
      "execution_count": 18,
      "outputs": [
        {
          "output_type": "stream",
          "name": "stdout",
          "text": [
            "a\n",
            "b\n",
            "b\n",
            "a\n"
          ]
        }
      ]
    },
    {
      "cell_type": "code",
      "source": [
        "#14  (에러)\n",
        "a = float(input())\n",
        "print((a + '\\n')*3)"
      ],
      "metadata": {
        "id": "6D_tqDyIdsdY"
      },
      "execution_count": null,
      "outputs": []
    },
    {
      "cell_type": "code",
      "source": [
        "#15\n",
        "a,b = input().split()\n",
        "print(a)\n",
        "print(b)"
      ],
      "metadata": {
        "colab": {
          "base_uri": "https://localhost:8080/"
        },
        "id": "HBVNUc5ad-sp",
        "outputId": "3661078c-81fd-4c2e-d8da-996b7b280813"
      },
      "execution_count": 22,
      "outputs": [
        {
          "output_type": "stream",
          "name": "stdout",
          "text": [
            "1 2\n",
            "1\n",
            "2\n"
          ]
        }
      ]
    },
    {
      "cell_type": "code",
      "source": [
        "#16\n",
        "a,b = input().split()\n",
        "print(b,a)"
      ],
      "metadata": {
        "colab": {
          "base_uri": "https://localhost:8080/"
        },
        "id": "pU7ziR2GeHMz",
        "outputId": "30d2ec51-ce38-4ccd-fb27-a64a7677cf77"
      },
      "execution_count": 23,
      "outputs": [
        {
          "output_type": "stream",
          "name": "stdout",
          "text": [
            "a b\n",
            "b a\n"
          ]
        }
      ]
    },
    {
      "cell_type": "code",
      "source": [
        "#17\n",
        "a = input()\n",
        "print((a+' ')*3)"
      ],
      "metadata": {
        "colab": {
          "base_uri": "https://localhost:8080/"
        },
        "id": "WLWDvwDaeM3M",
        "outputId": "a41d55d8-c723-4d58-ee2d-19e1011c8870"
      },
      "execution_count": 24,
      "outputs": [
        {
          "output_type": "stream",
          "name": "stdout",
          "text": [
            "computer science\n",
            "computer science computer science computer science \n"
          ]
        }
      ]
    },
    {
      "cell_type": "code",
      "source": [
        "#18\n",
        "a,b = input().split(':')\n",
        "print(a,b,sep=':')"
      ],
      "metadata": {
        "colab": {
          "base_uri": "https://localhost:8080/"
        },
        "id": "GuT03SqzecZQ",
        "outputId": "0cca46a9-0f33-4267-f856-a55232d67ed1"
      },
      "execution_count": 25,
      "outputs": [
        {
          "output_type": "stream",
          "name": "stdout",
          "text": [
            "3:16\n",
            "3:16\n"
          ]
        }
      ]
    },
    {
      "cell_type": "code",
      "source": [
        "#19\n",
        "a,b,c = input().split('.')\n",
        "print(c,b,a, sep = '-')"
      ],
      "metadata": {
        "colab": {
          "base_uri": "https://localhost:8080/"
        },
        "id": "Bt7pQLC3ecw4",
        "outputId": "c6dad518-f351-4d8c-dcac-1b5a7dd3faa9"
      },
      "execution_count": 26,
      "outputs": [
        {
          "output_type": "stream",
          "name": "stdout",
          "text": [
            "2020.3.4\n",
            "4-3-2020\n"
          ]
        }
      ]
    },
    {
      "cell_type": "code",
      "source": [
        "#20\n",
        "a,b = input().split('-')\n",
        "print(a+b)"
      ],
      "metadata": {
        "colab": {
          "base_uri": "https://localhost:8080/"
        },
        "id": "g2XxiW2BeeV5",
        "outputId": "969b4b31-5331-48c8-d7cd-6f1571164b93"
      },
      "execution_count": 27,
      "outputs": [
        {
          "output_type": "stream",
          "name": "stdout",
          "text": [
            "000907-1121112\n",
            "0009071121112\n"
          ]
        }
      ]
    },
    {
      "cell_type": "code",
      "source": [
        "#21\n",
        "a = input()\n",
        "for i in a:\n",
        "    print(i)"
      ],
      "metadata": {
        "colab": {
          "base_uri": "https://localhost:8080/"
        },
        "id": "2UdNMF1seePi",
        "outputId": "ae30267d-2236-40d1-a8d3-c9d8a3e5f1ef"
      },
      "execution_count": 28,
      "outputs": [
        {
          "output_type": "stream",
          "name": "stdout",
          "text": [
            "Hello\n",
            "H\n",
            "e\n",
            "l\n",
            "l\n",
            "o\n"
          ]
        }
      ]
    },
    {
      "cell_type": "code",
      "source": [
        "#22\n",
        "a = input()\n",
        "Y = a[:2]\n",
        "M = a[2:4]\n",
        "D = a[4:]\n",
        "\n",
        "print(Y,M,D)"
      ],
      "metadata": {
        "colab": {
          "base_uri": "https://localhost:8080/"
        },
        "id": "6t6XEkRCeeMC",
        "outputId": "57e8253c-66f9-4b2c-9852-842fde451479"
      },
      "execution_count": 29,
      "outputs": [
        {
          "output_type": "stream",
          "name": "stdout",
          "text": [
            "200304\n",
            "20 03 04\n"
          ]
        }
      ]
    },
    {
      "cell_type": "code",
      "source": [
        "#23\n",
        "a,b,c = input().split(':')\n",
        "print(b)"
      ],
      "metadata": {
        "colab": {
          "base_uri": "https://localhost:8080/"
        },
        "id": "UlaRWIxxeeIZ",
        "outputId": "69bd28e2-b0bd-4bd1-8234-a38b2432fc30"
      },
      "execution_count": 30,
      "outputs": [
        {
          "output_type": "stream",
          "name": "stdout",
          "text": [
            "17:23:57\n",
            "23\n"
          ]
        }
      ]
    },
    {
      "cell_type": "code",
      "source": [
        "#24\n",
        "a,b = input().split(' ')\n",
        "print(a+b)"
      ],
      "metadata": {
        "colab": {
          "base_uri": "https://localhost:8080/"
        },
        "id": "SDhCSduTeeEm",
        "outputId": "d09f26fa-c441-49fe-db35-fee56d7c764f"
      },
      "execution_count": 31,
      "outputs": [
        {
          "output_type": "stream",
          "name": "stdout",
          "text": [
            "hello world\n",
            "helloworld\n"
          ]
        }
      ]
    },
    {
      "cell_type": "code",
      "source": [
        "#25\n",
        "a,b =map(int,input().split(' '))\n",
        "print(a+b)"
      ],
      "metadata": {
        "colab": {
          "base_uri": "https://localhost:8080/"
        },
        "id": "lr2h6ENSeeAf",
        "outputId": "c273fb7b-af11-4333-c74c-7af51bf3d751"
      },
      "execution_count": 32,
      "outputs": [
        {
          "output_type": "stream",
          "name": "stdout",
          "text": [
            "123 -123\n",
            "0\n"
          ]
        }
      ]
    },
    {
      "cell_type": "code",
      "source": [
        "#26\n",
        "a = float(input())\n",
        "b = float(input())\n",
        "print(a+b)"
      ],
      "metadata": {
        "colab": {
          "base_uri": "https://localhost:8080/"
        },
        "id": "JHGNpZRied8w",
        "outputId": "48ff82fd-e7c8-412f-901f-b98ff73840a3"
      },
      "execution_count": 33,
      "outputs": [
        {
          "output_type": "stream",
          "name": "stdout",
          "text": [
            "0.1\n",
            "0.9\n",
            "1.0\n"
          ]
        }
      ]
    },
    {
      "cell_type": "code",
      "source": [
        "#27\n",
        "a = int(input())\n",
        "print('%x'%a)"
      ],
      "metadata": {
        "colab": {
          "base_uri": "https://localhost:8080/"
        },
        "id": "ALJ9DgCUed2V",
        "outputId": "0dd096f8-9edf-47f7-c6b1-ed6c441ee068"
      },
      "execution_count": 34,
      "outputs": [
        {
          "output_type": "stream",
          "name": "stdout",
          "text": [
            "255\n",
            "ff\n"
          ]
        }
      ]
    },
    {
      "cell_type": "code",
      "source": [
        "#28\n",
        "a = int(input())\n",
        "print('%X'%a)"
      ],
      "metadata": {
        "colab": {
          "base_uri": "https://localhost:8080/"
        },
        "id": "QQvEw84YewxR",
        "outputId": "e956389b-7838-4b89-9c27-256573a3e5d9"
      },
      "execution_count": 35,
      "outputs": [
        {
          "output_type": "stream",
          "name": "stdout",
          "text": [
            "255\n",
            "FF\n"
          ]
        }
      ]
    },
    {
      "cell_type": "code",
      "source": [
        "#29\n",
        "a = int(input(),16)\n",
        "print('%o'%a)"
      ],
      "metadata": {
        "colab": {
          "base_uri": "https://localhost:8080/"
        },
        "id": "EP13zaOqedrn",
        "outputId": "2557cc75-a0f6-4dcf-ed5a-a350cc7b0532"
      },
      "execution_count": 36,
      "outputs": [
        {
          "output_type": "stream",
          "name": "stdout",
          "text": [
            "f\n",
            "17\n"
          ]
        }
      ]
    },
    {
      "cell_type": "code",
      "source": [
        "#30\n",
        "a = ord(input())\n",
        "print(a)"
      ],
      "metadata": {
        "colab": {
          "base_uri": "https://localhost:8080/"
        },
        "id": "utTHLVRTedOx",
        "outputId": "713aa10d-0bd6-4e6b-c122-d2a5f1a36654"
      },
      "execution_count": 37,
      "outputs": [
        {
          "output_type": "stream",
          "name": "stdout",
          "text": [
            "A\n",
            "65\n"
          ]
        }
      ]
    }
  ]
}